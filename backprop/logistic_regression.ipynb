{
 "cells": [
  {
   "cell_type": "markdown",
   "id": "bbd74166",
   "metadata": {},
   "source": [
    "- Train a SImple Logistic Regression.\n",
    "- Create a dummy dataset of 2000 samples, 10 features\n",
    "- Initialize a Weight vector (of same size as of features) and a bias\n",
    "- Define a training function with forward and backward pass using simple Gradient Descent\n",
    "- Plot the loss curve after training it for a few epochs."
   ]
  },
  {
   "cell_type": "markdown",
   "id": "39d79599",
   "metadata": {},
   "source": [
    "### Library Import"
   ]
  },
  {
   "cell_type": "code",
   "execution_count": 9,
   "id": "b0113aa1",
   "metadata": {},
   "outputs": [],
   "source": [
    "import numpy as np\n",
    "from sklearn.datasets import make_classification\n",
    "import matplotlib.pyplot as plt"
   ]
  },
  {
   "cell_type": "markdown",
   "id": "ac23f1f7",
   "metadata": {},
   "source": [
    "### Data Preparation"
   ]
  },
  {
   "cell_type": "code",
   "execution_count": 10,
   "id": "cbdc9d61",
   "metadata": {},
   "outputs": [
    {
     "data": {
      "text/plain": [
       "((2000, 10), (2000,))"
      ]
     },
     "execution_count": 10,
     "metadata": {},
     "output_type": "execute_result"
    }
   ],
   "source": [
    "X, y = make_classification(n_samples=2000, n_features=10, n_classes=2, \n",
    "                           n_informative=10, n_redundant=0, random_state=42)\n",
    "\n",
    "X.shape, y.shape"
   ]
  },
  {
   "cell_type": "markdown",
   "id": "7941061c",
   "metadata": {},
   "source": [
    "### Initialise Weight Vectors"
   ]
  },
  {
   "cell_type": "code",
   "execution_count": 11,
   "id": "7af5de7f",
   "metadata": {},
   "outputs": [
    {
     "data": {
      "text/plain": [
       "(array([ 0.38829792, -0.44416092,  2.57251749, -0.84268245,  1.63662241,\n",
       "        -0.14746698,  1.07204516,  2.48821543, -0.94337995,  0.07670325]),\n",
       " array([0.55375189]))"
      ]
     },
     "execution_count": 11,
     "metadata": {},
     "output_type": "execute_result"
    }
   ],
   "source": [
    "W = np.random.randn(10, )\n",
    "b = np.random.randn(1)\n",
    "\n",
    "W, b"
   ]
  },
  {
   "cell_type": "markdown",
   "id": "f33b1825",
   "metadata": {},
   "source": [
    "### Training ML Model"
   ]
  },
  {
   "cell_type": "code",
   "execution_count": 12,
   "id": "36847fd2",
   "metadata": {},
   "outputs": [],
   "source": [
    "def sigmoid(x):\n",
    "    return 1 / (1 + np.exp(-x))\n",
    "\n",
    "def log_loss(y, y_pred):\n",
    "    return -np.mean(y*np.log(y_pred) + (1-y)*np.log(1-y_pred)) # mean of loss over samples, scaler value"
   ]
  },
  {
   "cell_type": "code",
   "execution_count": 13,
   "id": "53f05455",
   "metadata": {},
   "outputs": [],
   "source": [
    "def fit(X, W, b, lr=0.001, epochs=1000):    \n",
    "\n",
    "    loss_list = []\n",
    "    for _ in range (epochs):   \n",
    "        \n",
    "        # Forward Pass                \n",
    "        \n",
    "        Z = X @ W + b # shape (N,)\n",
    "        y_pred = sigmoid(Z)  # shape (N, )   \n",
    "        L = log_loss(y, y_pred)\n",
    "        loss_list.append(L)\n",
    "        \n",
    "        # Backward Pass\n",
    "        \n",
    "        # Using chain rule of differentiation          \n",
    "        # dL_by_dW = dL_by_dy_pred * dy_pred_by_dZ * dZ_by_dW\n",
    "        # dL_by_db = dL_by_dy_pred * dy_pred_by_dZ * dZ_by_db\n",
    "        \n",
    "        # dL_by_dy_pred = -y/y_pred + (1-y)/(1-y_pred)\n",
    "        #               = (y_pred - y)/(y_pred * (1 - y_pred))\n",
    "        \n",
    "        # dy_pred_by_dz = (sigmoid(Z)(1 - sigmoid(Z))) \n",
    "        #               = (y_pred * (1 - y_pred))\n",
    "        \n",
    "        # dL_by_dZ = dL_by_dy_pred * dy_pred_by_dz\n",
    "        #           = y_pred - y\n",
    "        \n",
    "        dL_by_dZ = y_pred - y # shape (N, )        \n",
    "        \n",
    "        dL_by_dW = (X.T @ dL_by_dZ) / len(y) # shape(10,)\n",
    "        dL_by_db = np.mean(dL_by_dZ*1) # scaler  \n",
    "        \n",
    "        W -= lr*dL_by_dW\n",
    "        b -= lr*dL_by_db           \n",
    "        \n",
    "    return loss_list"
   ]
  },
  {
   "cell_type": "code",
   "execution_count": 14,
   "id": "bc6e8cde",
   "metadata": {},
   "outputs": [],
   "source": [
    "epochs = 5000\n",
    "sgd_loss = fit(X, W.copy(), b.copy(), epochs=epochs)"
   ]
  },
  {
   "cell_type": "markdown",
   "id": "4c211c29",
   "metadata": {},
   "source": [
    "### Plot the loss"
   ]
  },
  {
   "cell_type": "code",
   "execution_count": 17,
   "id": "f6362b6b",
   "metadata": {},
   "outputs": [
    {
     "data": {
      "image/png": "[encoded data removed]",
      "text/plain": [
       "<Figure size 1000x500 with 1 Axes>"
      ]
     },
     "metadata": {},
     "output_type": "display_data"
    }
   ],
   "source": [
    "plt.figure(figsize=(10, 5)) \n",
    "plt.plot(np.linspace(1, epochs, epochs), sgd_loss, label=\"Loss\")\n",
    "plt.legend()\n",
    "plt.ylabel(\"Loss\")\n",
    "plt.xlabel(\"Epoch\")\n",
    "plt.show()"
   ]
  }
 ],
 "metadata": {
  "kernelspec": {
   "display_name": "tapestry",
   "language": "python",
   "name": "python3"
  },
  "language_info": {
   "codemirror_mode": {
    "name": "ipython",
    "version": 3
   },
   "file_extension": ".py",
   "mimetype": "text/x-python",
   "name": "python",
   "nbconvert_exporter": "python",
   "pygments_lexer": "ipython3",
   "version": "3.10.12"
  }
 },
 "nbformat": 4,
 "nbformat_minor": 5
}
