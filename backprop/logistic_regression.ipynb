{
 "cells": [
  {
   "cell_type": "markdown",
   "id": "bbd74166",
   "metadata": {},
   "source": [
    "- Train a SImple Logistic Regression.\n",
    "- Create a dummy dataset of 2000 samples, 10 features\n",
    "- Initialize a Weight vector (of same size as of features) and a bias\n",
    "- Define a training function with forward and backward pass using simple Gradient Descent\n",
    "- Plot the loss curve after training it for a few epochs."
   ]
  },
  {
   "cell_type": "markdown",
   "id": "39d79599",
   "metadata": {},
   "source": [
    "### Library Import"
   ]
  },
  {
   "cell_type": "code",
   "execution_count": 10,
   "id": "b0113aa1",
   "metadata": {},
   "outputs": [],
   "source": [
    "import numpy as np\n",
    "from sklearn.datasets import make_classification\n",
    "import matplotlib.pyplot as plt"
   ]
  },
  {
   "cell_type": "markdown",
   "id": "ac23f1f7",
   "metadata": {},
   "source": [
    "### Data Preparation"
   ]
  },
  {
   "cell_type": "code",
   "execution_count": null,
   "id": "cbdc9d61",
   "metadata": {},
   "outputs": [
    {
     "data": {
      "text/plain": [
       "((10000, 10), (10000,))"
      ]
     },
     "execution_count": 4,
     "metadata": {},
     "output_type": "execute_result"
    }
   ],
   "source": [
    "X, y = make_classification(n_samples=2000, n_features=10, n_classes=2, \n",
    "                           n_informative=10, n_redundant=0, random_state=42)\n",
    "\n",
    "X.shape, y.shape"
   ]
  },
  {
   "cell_type": "markdown",
   "id": "7941061c",
   "metadata": {},
   "source": [
    "### Initialise Weight Vectors"
   ]
  },
  {
   "cell_type": "code",
   "execution_count": 5,
   "id": "7af5de7f",
   "metadata": {},
   "outputs": [
    {
     "data": {
      "text/plain": [
       "(array([-2.9649492 ,  0.53546791,  1.69535803,  0.63368088, -1.10618521,\n",
       "         1.38669977, -0.59005642,  1.08965406,  2.14853654, -0.69604367]),\n",
       " array([-0.48955919]))"
      ]
     },
     "execution_count": 5,
     "metadata": {},
     "output_type": "execute_result"
    }
   ],
   "source": [
    "W = np.random.randn(10, )\n",
    "b = np.random.randn(1)\n",
    "\n",
    "W, b"
   ]
  },
  {
   "cell_type": "markdown",
   "id": "f33b1825",
   "metadata": {},
   "source": [
    "### Training ML Model"
   ]
  },
  {
   "cell_type": "code",
   "execution_count": null,
   "id": "36847fd2",
   "metadata": {},
   "outputs": [],
   "source": [
    "def sigmoid(x):\n",
    "    return 1 / (1 + np.exp(-x))\n",
    "\n",
    "def log_loss(y, y_pred):\n",
    "    return -np.mean(y*np.log(y_pred) + (1-y)*np.log(1-y_pred)) # mean of loss over samples, scaler value"
   ]
  },
  {
   "cell_type": "code",
   "execution_count": null,
   "id": "53f05455",
   "metadata": {},
   "outputs": [],
   "source": [
    "def fit(X, W, b, lr=0.001, epochs=1000):    \n",
    "\n",
    "    loss_list = []\n",
    "    for _ in range (epochs):   \n",
    "        \n",
    "        # Forward Pass                \n",
    "        \n",
    "        Z = X @ W + b # shape (N,)\n",
    "        y_pred = sigmoid(Z)  # shape (N, )   \n",
    "        L = log_loss(y, y_pred)\n",
    "        loss_list.append(L)\n",
    "        \n",
    "        # Backward Pass\n",
    "        \n",
    "        # Using chain rule of differentiation          \n",
    "        # dL_by_dW = dL_by_dy_pred * dy_pred_by_dZ * dZ_by_dW\n",
    "        # dL_by_db = dL_by_dy_pred * dy_pred_by_dZ * dZ_by_db\n",
    "        \n",
    "        # dL_by_dy_pred = -y/y_pred + (1-y)/(1-y_pred)\n",
    "        #               = (y_pred - y)/(y_pred * (1 - y_pred))\n",
    "        \n",
    "        # dy_pred_by_dz = (sigmoid(Z)(1 - sigmoid(Z))) \n",
    "        #               = (y_pred * (1 - y_pred))\n",
    "        \n",
    "        # dL_by_dZ = dL_by_dy_pred * dy_pred_by_dz\n",
    "        #           = y_pred - y\n",
    "        \n",
    "        dL_by_dZ = y_pred - y # shape (N, )        \n",
    "        \n",
    "        dL_by_dW = (X.T @ dL_by_dZ) / len(y) # shape(10,)\n",
    "        dL_by_db = np.mean(dL_by_dZ*1) # scaler  \n",
    "        \n",
    "        W -= lr*dL_by_dW\n",
    "        b -= lr*dL_by_db           \n",
    "        \n",
    "    return loss_list"
   ]
  },
  {
   "cell_type": "code",
   "execution_count": null,
   "id": "bc6e8cde",
   "metadata": {},
   "outputs": [],
   "source": [
    "epochs = 1000\n",
    "sgd_loss = fit(X, W.copy(), b.copy(), epochs=epochs)"
   ]
  },
  {
   "cell_type": "markdown",
   "id": "4c211c29",
   "metadata": {},
   "source": [
    "### Plot the loss"
   ]
  },
  {
   "cell_type": "code",
   "execution_count": null,
   "id": "f6362b6b",
   "metadata": {},
   "outputs": [
    {
     "data": {
      "image/png": "[encoded data removed]",
      "text/plain": [
       "<Figure size 640x480 with 1 Axes>"
      ]
     },
     "metadata": {},
     "output_type": "display_data"
    }
   ],
   "source": [
    "plt.plot(np.linspace(1, epochs, epochs), sgd_loss, label=\"SGD\")\n",
    "plt.legend()\n",
    "plt.ylabel(\"Loss\")\n",
    "plt.xlabel(\"Epoch\")\n",
    "plt.show()"
   ]
  }
 ],
 "metadata": {
  "kernelspec": {
   "display_name": "tapestry",
   "language": "python",
   "name": "python3"
  },
  "language_info": {
   "codemirror_mode": {
    "name": "ipython",
    "version": 3
   },
   "file_extension": ".py",
   "mimetype": "text/x-python",
   "name": "python",
   "nbconvert_exporter": "python",
   "pygments_lexer": "ipython3",
   "version": "3.10.12"
  }
 },
 "nbformat": 4,
 "nbformat_minor": 5
}
